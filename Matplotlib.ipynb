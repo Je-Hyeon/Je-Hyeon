{
  "nbformat": 4,
  "nbformat_minor": 0,
  "metadata": {
    "colab": {
      "name": "Matplotlib.ipynb",
      "provenance": [],
      "toc_visible": true,
      "mount_file_id": "1aPCuEgrN6PqMyhmVNEe6FEaTn5p2aBvz",
      "authorship_tag": "ABX9TyNOsi5VIOtvs8/0/iBGkEdI",
      "include_colab_link": true
    },
    "kernelspec": {
      "name": "python3",
      "display_name": "Python 3"
    },
    "language_info": {
      "name": "python"
    }
  },
  "cells": [
    {
      "cell_type": "markdown",
      "metadata": {
        "id": "view-in-github",
        "colab_type": "text"
      },
      "source": [
        "<a href=\"https://colab.research.google.com/github/Je-Hyeon/Je-Hyeon/blob/main/Matplotlib.ipynb\" target=\"_parent\"><img src=\"https://colab.research.google.com/assets/colab-badge.svg\" alt=\"Open In Colab\"/></a>"
      ]
    },
    {
      "cell_type": "markdown",
      "source": [
        "# MATPLOTLIB\n",
        "\n",
        "* savefig을 사용해서 파일로 저장가능\n",
        "\n",
        "* hist에서 density를 주면 발생빈도(소수)를 보여준다.\n"
      ],
      "metadata": {
        "id": "T8Ha6KEG6lop"
      }
    },
    {
      "cell_type": "code",
      "execution_count": 1,
      "metadata": {
        "id": "_8Pt6iql-C6r"
      },
      "outputs": [],
      "source": [
        "import matplotlib.pyplot as plt\n",
        "import numpy as np\n",
        "import pandas as pd"
      ]
    },
    {
      "cell_type": "markdown",
      "source": [
        "# Plot 기본"
      ],
      "metadata": {
        "id": "jfbguy6ZugtB"
      }
    },
    {
      "cell_type": "code",
      "source": [
        "x_1 = np.linspace(0,5, num=10)\n",
        "x_2 = np.sqrt(x_1)\n",
        "\n",
        "plt.plot(x_1 , x_2)\n",
        "plt.title('Plot')\n",
        "plt.xlabel('x')\n",
        "plt.ylabel('Root x')"
      ],
      "metadata": {
        "colab": {
          "base_uri": "https://localhost:8080/",
          "height": 312
        },
        "id": "bwJKJN7ftI4J",
        "outputId": "e00389f6-fd4d-4219-e108-5fa56f3ebc19"
      },
      "execution_count": 3,
      "outputs": [
        {
          "output_type": "execute_result",
          "data": {
            "text/plain": [
              "Text(0, 0.5, 'Root x')"
            ]
          },
          "metadata": {},
          "execution_count": 3
        },
        {
          "output_type": "display_data",
          "data": {
            "image/png": "[encoded data removed]",
            "text/plain": [
              "<Figure size 432x288 with 1 Axes>"
            ]
          },
          "metadata": {
            "needs_background": "light"
          }
        }
      ]
    },
    {
      "cell_type": "markdown",
      "source": [
        "# Subplot 기본"
      ],
      "metadata": {
        "id": "srQs7mDwudV7"
      }
    },
    {
      "cell_type": "code",
      "source": [
        "# subplot(행, 열, 위치)\n",
        "\n",
        "plt.subplot(1,2,1)\n",
        "plt.plot(x_1, x_1, 'r')\n",
        "\n",
        "plt.subplot(1,2,2)\n",
        "plt.plot(x_2, x_1, 'b')"
      ],
      "metadata": {
        "colab": {
          "base_uri": "https://localhost:8080/",
          "height": 282
        },
        "id": "C1VRqHwytwIT",
        "outputId": "22cb3627-80f7-4fb7-ebff-f44073c11f02"
      },
      "execution_count": 5,
      "outputs": [
        {
          "output_type": "execute_result",
          "data": {
            "text/plain": [
              "[<matplotlib.lines.Line2D at 0x7fd0e301fe10>]"
            ]
          },
          "metadata": {},
          "execution_count": 5
        },
        {
          "output_type": "display_data",
          "data": {
            "image/png": "[encoded data removed]",
            "text/plain": [
              "<Figure size 432x288 with 2 Axes>"
            ]
          },
          "metadata": {
            "needs_background": "light"
          }
        }
      ]
    },
    {
      "cell_type": "markdown",
      "source": [
        "# Figure 객체 사용\n",
        "\n",
        "fig는 하나의 그림이미지 전부를 의미하는 것 같다.(흰색 바탕 전부) 그 안에 들어오는 차트를 axes라고 부르는 듯."
      ],
      "metadata": {
        "id": "c1swDT6Jyqd5"
      }
    },
    {
      "cell_type": "code",
      "source": [
        "fig = plt.figure()\n",
        "\n",
        "# Adds axes with a left, bottom, width and height that ranges from 0 to 1\n",
        "# which is the percent of the canvas you want to use\n",
        "\n",
        "axes1 = fig.add_axes([1,1, 0.5,0.5])   # -> 뒤에 두 숫자는 그래프의 사이즈를 말하는게 확실한 것 같다.\n",
        "axes2 = fig.add_axes([0.5, 0.5, 0.5, 0.5])\n",
        "\n",
        "plt.title('Title')\n",
        "axes1.set_xlabel('X')\n",
        "\n",
        "# plt로 접근할 때는 plt.title, plt.xlabel 이렇게 설정해 주고\n",
        "# axes로 접근할 때는 set_title , set_xlabel 이렇게 설정해 준다."
      ],
      "metadata": {
        "colab": {
          "base_uri": "https://localhost:8080/",
          "height": 358
        },
        "id": "AtFyIiKMuXcH",
        "outputId": "ce79a090-6ce3-4c16-b8b2-dc6579998b1b"
      },
      "execution_count": 37,
      "outputs": [
        {
          "output_type": "execute_result",
          "data": {
            "text/plain": [
              "Text(0.5, 0, 'X')"
            ]
          },
          "metadata": {},
          "execution_count": 37
        },
        {
          "output_type": "display_data",
          "data": {
            "image/png": "[encoded data removed]",
            "text/plain": [
              "<Figure size 432x288 with 2 Axes>"
            ]
          },
          "metadata": {
            "needs_background": "light"
          }
        }
      ]
    },
    {
      "cell_type": "markdown",
      "source": [
        "# Subplots ( subplot과 다름)"
      ],
      "metadata": {
        "id": "GJaU2QVM2NSv"
      }
    },
    {
      "cell_type": "code",
      "source": [
        "# subplots을 사용하면 fig와 axes두가지 객체로 받아주어야 한다.\n",
        "## axes는 axes들의 리스트를 담고 있다고 생각하면 편하다\n",
        "\n",
        "fig, axes_list = plt.subplots(figsize=(8,4), nrows=1, ncols=2)\n",
        "\n",
        "\n",
        "axes_list[0].plot(x_2,x_1, 'r')\n",
        "axes_list[1].plot(x_1,x_2)"
      ],
      "metadata": {
        "colab": {
          "base_uri": "https://localhost:8080/",
          "height": 282
        },
        "id": "z0mxSpMuyzYG",
        "outputId": "0a688055-5ab0-4157-f8be-9e2563a6b553"
      },
      "execution_count": 59,
      "outputs": [
        {
          "output_type": "execute_result",
          "data": {
            "text/plain": [
              "[<matplotlib.lines.Line2D at 0x7fd0d5283e10>]"
            ]
          },
          "metadata": {},
          "execution_count": 59
        },
        {
          "output_type": "display_data",
          "data": {
            "image/png": "[encoded data removed]",
            "text/plain": [
              "<Figure size 576x288 with 2 Axes>"
            ]
          },
          "metadata": {
            "needs_background": "light"
          }
        }
      ]
    },
    {
      "cell_type": "code",
      "source": [
        "# 넘파이 인덱싱에 접근하는 것 처럼 차트에 접근해야 한다.\n",
        "\n",
        "fig, axes_list = plt.subplots(3,3)   # -> 3*3개의 차트를 만든다.\n",
        "\n",
        "axes_list[0,0].plot(x_1)\n",
        "axes_list[2,2].plot(x_2 , 'r')"
      ],
      "metadata": {
        "colab": {
          "base_uri": "https://localhost:8080/",
          "height": 286
        },
        "id": "ks0wRy_k3NAs",
        "outputId": "b1512ef1-3342-4e99-a3d1-db71f71c945d"
      },
      "execution_count": 61,
      "outputs": [
        {
          "output_type": "execute_result",
          "data": {
            "text/plain": [
              "[<matplotlib.lines.Line2D at 0x7fd0d5700810>]"
            ]
          },
          "metadata": {},
          "execution_count": 61
        },
        {
          "output_type": "display_data",
          "data": {
            "image/png": "[encoded data removed]",
            "text/plain": [
              "<Figure size 432x288 with 9 Axes>"
            ]
          },
          "metadata": {
            "needs_background": "light"
          }
        }
      ]
    },
    {
      "cell_type": "markdown",
      "source": [
        "# 플롯의 여러 스타일 (줄, 그리드)"
      ],
      "metadata": {
        "id": "FNN7KRzk5Kg3"
      }
    },
    {
      "cell_type": "code",
      "source": [
        "fig = plt.figure()\n",
        "axes_3 = fig.add_axes([0,0,1,1])\n",
        "\n",
        "axes_3.plot(x_1, x_2,color='navy', alpha=.75, lw=2, ls='-.',\n",
        "           marker='o', markersize=7, markerfacecolor='y',\n",
        "           markeredgecolor='y', markeredgewidth=4)\n",
        "# color, alpha(불투명도) , lw 라인 넓이 , ls 라인 스타일, marker, markersize, markerfacecolor, etc...\n",
        "\n",
        "# Add a grid, color, dashes(5pts 1 pt dashes separated by 2pt space) -> grid : 격자무늬\n",
        "axes_3.grid(True, color='0.6', dashes=(5, 2, 1, 2))\n",
        "# Set grid background color\n",
        "axes_3.set_facecolor('#FAEBD7')"
      ],
      "metadata": {
        "colab": {
          "base_uri": "https://localhost:8080/",
          "height": 336
        },
        "id": "ZstpvSyK45Br",
        "outputId": "a14c7d32-c584-492c-ecf8-4df338ec0f54"
      },
      "execution_count": 68,
      "outputs": [
        {
          "output_type": "display_data",
          "data": {
            "image/png": "[encoded data removed]",
            "text/plain": [
              "<Figure size 432x288 with 1 Axes>"
            ]
          },
          "metadata": {
            "needs_background": "light"
          }
        }
      ]
    },
    {
      "cell_type": "markdown",
      "source": [
        "# 데이터프레임 형태 자료를 plot해보기\n"
      ],
      "metadata": {
        "id": "Cvtl21Rl9rRA"
      }
    },
    {
      "cell_type": "code",
      "source": [
        "icecream = pd.read_csv('https://raw.githubusercontent.com/derekbanas/matplotlib/master/icecreamsales.csv')\n",
        "\n",
        "icecream\n",
        "\n",
        "# 온도와 판매량 그래프를 그려보고 싶다"
      ],
      "metadata": {
        "colab": {
          "base_uri": "https://localhost:8080/",
          "height": 426
        },
        "id": "74DVzzia5q-o",
        "outputId": "2ca4bb29-e760-4fdf-d675-2c2abc0077b7"
      },
      "execution_count": 104,
      "outputs": [
        {
          "output_type": "execute_result",
          "data": {
            "text/html": [
              "\n",
              "  <div id=\"df-c2ecba1b-2938-4202-bfd2-d4d324fb4b8e\">\n",
              "    <div class=\"colab-df-container\">\n",
              "      <div>\n",
              "<style scoped>\n",
              "    .dataframe tbody tr th:only-of-type {\n",
              "        vertical-align: middle;\n",
              "    }\n",
              "\n",
              "    .dataframe tbody tr th {\n",
              "        vertical-align: top;\n",
              "    }\n",
              "\n",
              "    .dataframe thead th {\n",
              "        text-align: right;\n",
              "    }\n",
              "</style>\n",
              "<table border=\"1\" class=\"dataframe\">\n",
              "  <thead>\n",
              "    <tr style=\"text-align: right;\">\n",
              "      <th></th>\n",
              "      <th>Temperature</th>\n",
              "      <th>Sales</th>\n",
              "    </tr>\n",
              "  </thead>\n",
              "  <tbody>\n",
              "    <tr>\n",
              "      <th>0</th>\n",
              "      <td>37</td>\n",
              "      <td>292</td>\n",
              "    </tr>\n",
              "    <tr>\n",
              "      <th>1</th>\n",
              "      <td>40</td>\n",
              "      <td>228</td>\n",
              "    </tr>\n",
              "    <tr>\n",
              "      <th>2</th>\n",
              "      <td>49</td>\n",
              "      <td>324</td>\n",
              "    </tr>\n",
              "    <tr>\n",
              "      <th>3</th>\n",
              "      <td>61</td>\n",
              "      <td>376</td>\n",
              "    </tr>\n",
              "    <tr>\n",
              "      <th>4</th>\n",
              "      <td>72</td>\n",
              "      <td>440</td>\n",
              "    </tr>\n",
              "    <tr>\n",
              "      <th>5</th>\n",
              "      <td>79</td>\n",
              "      <td>496</td>\n",
              "    </tr>\n",
              "    <tr>\n",
              "      <th>6</th>\n",
              "      <td>83</td>\n",
              "      <td>536</td>\n",
              "    </tr>\n",
              "    <tr>\n",
              "      <th>7</th>\n",
              "      <td>81</td>\n",
              "      <td>556</td>\n",
              "    </tr>\n",
              "    <tr>\n",
              "      <th>8</th>\n",
              "      <td>75</td>\n",
              "      <td>496</td>\n",
              "    </tr>\n",
              "    <tr>\n",
              "      <th>9</th>\n",
              "      <td>64</td>\n",
              "      <td>412</td>\n",
              "    </tr>\n",
              "    <tr>\n",
              "      <th>10</th>\n",
              "      <td>53</td>\n",
              "      <td>324</td>\n",
              "    </tr>\n",
              "    <tr>\n",
              "      <th>11</th>\n",
              "      <td>42</td>\n",
              "      <td>320</td>\n",
              "    </tr>\n",
              "  </tbody>\n",
              "</table>\n",
              "</div>\n",
              "      <button class=\"colab-df-convert\" onclick=\"convertToInteractive('df-c2ecba1b-2938-4202-bfd2-d4d324fb4b8e')\"\n",
              "              title=\"Convert this dataframe to an interactive table.\"\n",
              "              style=\"display:none;\">\n",
              "        \n",
              "  <svg xmlns=\"http://www.w3.org/2000/svg\" height=\"24px\"viewBox=\"0 0 24 24\"\n",
              "       width=\"24px\">\n",
              "    <path d=\"M0 0h24v24H0V0z\" fill=\"none\"/>\n",
              "    <path d=\"M18.56 5.44l.94 2.06.94-2.06 2.06-.94-2.06-.94-.94-2.06-.94 2.06-2.06.94zm-11 1L8.5 8.5l.94-2.06 2.06-.94-2.06-.94L8.5 2.5l-.94 2.06-2.06.94zm10 10l.94 2.06.94-2.06 2.06-.94-2.06-.94-.94-2.06-.94 2.06-2.06.94z\"/><path d=\"M17.41 7.96l-1.37-1.37c-.4-.4-.92-.59-1.43-.59-.52 0-1.04.2-1.43.59L10.3 9.45l-7.72 7.72c-.78.78-.78 2.05 0 2.83L4 21.41c.39.39.9.59 1.41.59.51 0 1.02-.2 1.41-.59l7.78-7.78 2.81-2.81c.8-.78.8-2.07 0-2.86zM5.41 20L4 18.59l7.72-7.72 1.47 1.35L5.41 20z\"/>\n",
              "  </svg>\n",
              "      </button>\n",
              "      \n",
              "  <style>\n",
              "    .colab-df-container {\n",
              "      display:flex;\n",
              "      flex-wrap:wrap;\n",
              "      gap: 12px;\n",
              "    }\n",
              "\n",
              "    .colab-df-convert {\n",
              "      background-color: #E8F0FE;\n",
              "      border: none;\n",
              "      border-radius: 50%;\n",
              "      cursor: pointer;\n",
              "      display: none;\n",
              "      fill: #1967D2;\n",
              "      height: 32px;\n",
              "      padding: 0 0 0 0;\n",
              "      width: 32px;\n",
              "    }\n",
              "\n",
              "    .colab-df-convert:hover {\n",
              "      background-color: #E2EBFA;\n",
              "      box-shadow: 0px 1px 2px rgba(60, 64, 67, 0.3), 0px 1px 3px 1px rgba(60, 64, 67, 0.15);\n",
              "      fill: #174EA6;\n",
              "    }\n",
              "\n",
              "    [theme=dark] .colab-df-convert {\n",
              "      background-color: #3B4455;\n",
              "      fill: #D2E3FC;\n",
              "    }\n",
              "\n",
              "    [theme=dark] .colab-df-convert:hover {\n",
              "      background-color: #434B5C;\n",
              "      box-shadow: 0px 1px 3px 1px rgba(0, 0, 0, 0.15);\n",
              "      filter: drop-shadow(0px 1px 2px rgba(0, 0, 0, 0.3));\n",
              "      fill: #FFFFFF;\n",
              "    }\n",
              "  </style>\n",
              "\n",
              "      <script>\n",
              "        const buttonEl =\n",
              "          document.querySelector('#df-c2ecba1b-2938-4202-bfd2-d4d324fb4b8e button.colab-df-convert');\n",
              "        buttonEl.style.display =\n",
              "          google.colab.kernel.accessAllowed ? 'block' : 'none';\n",
              "\n",
              "        async function convertToInteractive(key) {\n",
              "          const element = document.querySelector('#df-c2ecba1b-2938-4202-bfd2-d4d324fb4b8e');\n",
              "          const dataTable =\n",
              "            await google.colab.kernel.invokeFunction('convertToInteractive',\n",
              "                                                     [key], {});\n",
              "          if (!dataTable) return;\n",
              "\n",
              "          const docLinkHtml = 'Like what you see? Visit the ' +\n",
              "            '<a target=\"_blank\" href=https://colab.research.google.com/notebooks/data_table.ipynb>data table notebook</a>'\n",
              "            + ' to learn more about interactive tables.';\n",
              "          element.innerHTML = '';\n",
              "          dataTable['output_type'] = 'display_data';\n",
              "          await google.colab.output.renderOutput(dataTable, element);\n",
              "          const docLink = document.createElement('div');\n",
              "          docLink.innerHTML = docLinkHtml;\n",
              "          element.appendChild(docLink);\n",
              "        }\n",
              "      </script>\n",
              "    </div>\n",
              "  </div>\n",
              "  "
            ],
            "text/plain": [
              "    Temperature  Sales\n",
              "0            37    292\n",
              "1            40    228\n",
              "2            49    324\n",
              "3            61    376\n",
              "4            72    440\n",
              "5            79    496\n",
              "6            83    536\n",
              "7            81    556\n",
              "8            75    496\n",
              "9            64    412\n",
              "10           53    324\n",
              "11           42    320"
            ]
          },
          "metadata": {},
          "execution_count": 104
        }
      ]
    },
    {
      "cell_type": "code",
      "source": [
        "# 목적을 분명히 해야한다. 온도가 상승함에 따라서 판매량의 변화분을 보고 싶은 것이다.\n",
        "##그럼, 온도에 따라서 값을 정렬해야한다. ->정렬안하고 그래프 그리면 이상한 그래프가 나온다.왜나면 x축 변수가 지멋대로 왓다갓다하기 때문.\n",
        "\n",
        "ice_df = icecream.sort_values(by = 'Temperature')"
      ],
      "metadata": {
        "id": "Z7LIxIQU8Ndg"
      },
      "execution_count": 106,
      "outputs": []
    },
    {
      "cell_type": "code",
      "source": [
        "a = ice_df['Temperature']\n",
        "b = ice_df['Sales']\n",
        "\n",
        "plt.plot(a,b)\n",
        "plt.bar(a,b)   # bar chart를 추가할 수 있다."
      ],
      "metadata": {
        "colab": {
          "base_uri": "https://localhost:8080/",
          "height": 282
        },
        "id": "5OHx2wzG8qVQ",
        "outputId": "57d2664a-e8b8-40a2-fbbe-3ea34d5ba8ec"
      },
      "execution_count": 108,
      "outputs": [
        {
          "output_type": "execute_result",
          "data": {
            "text/plain": [
              "<BarContainer object of 12 artists>"
            ]
          },
          "metadata": {},
          "execution_count": 108
        },
        {
          "output_type": "display_data",
          "data": {
            "image/png": "[encoded data removed]",
            "text/plain": [
              "<Figure size 432x288 with 1 Axes>"
            ]
          },
          "metadata": {
            "needs_background": "light"
          }
        }
      ]
    },
    {
      "cell_type": "markdown",
      "source": [
        "# Barchart"
      ],
      "metadata": {
        "id": "mUkJLWzoDfUM"
      }
    },
    {
      "cell_type": "markdown",
      "source": [
        "## yerr 사용하기"
      ],
      "metadata": {
        "id": "kFodvvXFE0Kw"
      }
    },
    {
      "cell_type": "code",
      "source": [
        "# 그냥 그리기. 새로운 개념은 yerr 이 등장!\n",
        "\n",
        "x = ['Nuclear', 'Hydro', 'Coal', 'Gas', 'Solar', 'Wind', 'Other']\n",
        "per_1 = [71, 10, 3, 7, 2, 4, 3]\n",
        "\n",
        "variance = [8, 3, 1, 3, 1, 2, 1]\n",
        "\n",
        "plt.bar(x, per_1 , yerr = variance )\n",
        "\n",
        "# yerr이나 을 줘서 barchart의 error bar도 만들 수 있다. 플러스마이너스 오차를 표시할 수 있다."
      ],
      "metadata": {
        "colab": {
          "base_uri": "https://localhost:8080/",
          "height": 282
        },
        "id": "fRINuG2M9JnM",
        "outputId": "5890b2b8-656f-45b5-a105-e18300302a73"
      },
      "execution_count": 109,
      "outputs": [
        {
          "output_type": "execute_result",
          "data": {
            "text/plain": [
              "<BarContainer object of 7 artists>"
            ]
          },
          "metadata": {},
          "execution_count": 109
        },
        {
          "output_type": "display_data",
          "data": {
            "image/png": "[encoded data removed]",
            "text/plain": [
              "<Figure size 432x288 with 1 Axes>"
            ]
          },
          "metadata": {
            "needs_background": "light"
          }
        }
      ]
    },
    {
      "cell_type": "markdown",
      "source": [
        "## x축 값이 업는 BarChart"
      ],
      "metadata": {
        "id": "K_XsNzudE3UD"
      }
    },
    {
      "cell_type": "code",
      "source": [
        "# 데이터가 만약 height만 가지는 형태라면?  -> plt.bar(m_eng) 하면 오류가 뜬다.\n",
        "## barchart는 무조건 x와 height를 둘 다 주어줘야 한다.\n",
        "\n",
        "m_eng = (76, 85, 86, 88, 93)\n",
        "f_eng = (24, 15, 14, 12, 7)\n",
        "\n",
        "ra = np.arange(5)  # -> 이렇게 x값으로 사용할 것을 만들어줘야 한다.\n",
        "\n",
        "plt.bar(ra, m_eng, label='Male')"
      ],
      "metadata": {
        "colab": {
          "base_uri": "https://localhost:8080/",
          "height": 282
        },
        "id": "_2sz-L7j9WAX",
        "outputId": "579f7f50-84e7-4d06-8a24-86dfe6cbecfc"
      },
      "execution_count": 117,
      "outputs": [
        {
          "output_type": "execute_result",
          "data": {
            "text/plain": [
              "<BarContainer object of 5 artists>"
            ]
          },
          "metadata": {},
          "execution_count": 117
        },
        {
          "output_type": "display_data",
          "data": {
            "image/png": "[encoded data removed]",
            "text/plain": [
              "<Figure size 432x288 with 1 Axes>"
            ]
          },
          "metadata": {
            "needs_background": "light"
          }
        }
      ]
    },
    {
      "cell_type": "markdown",
      "source": [
        "## Ticker 만들기 (xticks, yticks)\n",
        "\n",
        " y축 티커는 yticks 사용하면 될듯"
      ],
      "metadata": {
        "id": "9sSeyLqoHZpl"
      }
    },
    {
      "cell_type": "code",
      "source": [
        "# 두개를 같이 나타나게 하기.. 더하기를 해서 남자차트 살짝 옆에 여자차트가 보이게 하면 된다.\n",
        "\n",
        "plt.bar(ra, m_eng, width= 0.5 , label='Male')\n",
        "plt.bar(ra+ 0.4, f_eng, width= 0.5, label = 'Female', color = 'g')\n",
        "plt.legend()\n",
        "\n",
        "# xticks를 사용해서 x 축에 티커를 줄 수 있다.\n",
        "plt.xticks(ra + 0.45 / 2, ('Aero', 'Chem', 'Civil', 'Elec', 'Mech'))\n",
        "\n",
        "# y축 티커 주기\n",
        "plt.yticks([10,20,30,40,50] ,'jehyeon' );"
      ],
      "metadata": {
        "colab": {
          "base_uri": "https://localhost:8080/",
          "height": 265
        },
        "id": "XvajCxHU-5u1",
        "outputId": "0a18c1d8-e274-4f0c-847f-f917eb247be0"
      },
      "execution_count": 134,
      "outputs": [
        {
          "output_type": "display_data",
          "data": {
            "image/png": "[encoded data removed]",
            "text/plain": [
              "<Figure size 432x288 with 1 Axes>"
            ]
          },
          "metadata": {
            "needs_background": "light"
          }
        }
      ]
    },
    {
      "cell_type": "markdown",
      "source": [
        "## Stacked Barchart\n",
        "\n",
        "* 잘 모르겠음 나중에 보자 -> enumerate 알아냈음\n",
        "\n",
        "* 그냥 bottom만 주면된다. 어렵지 않다"
      ],
      "metadata": {
        "id": "pYxZ5q16IKBZ"
      }
    },
    {
      "cell_type": "code",
      "source": [
        "# Plot teachers by sex\n",
        "t_type = ['Kind', 'Elem', 'Sec', 'Spec']\n",
        "m_teach = np.array([2, 20, 44, 14])\n",
        "f_teach = np.array([98, 80, 56, 86])\n",
        "\n",
        "# x축 값이 없기 때문에 그것을 만드는 과정 -> 리스트 내포를 사용해서 한줄로 해결해버린다.\n",
        "ind = [x for x, _ in enumerate(t_type)]    # enumerate는 리스트 위치와 해당 값을 튜플형태로 가져오는 것 같은데\n",
        "\n",
        "# Plot stacked bars for men and then women under\n",
        "plt.bar(ind, m_teach, width=0.45, label='Male', bottom=f_teach)   # -> 뭐가 bottom에 들어갈지 말해주면 되는 군...\n",
        "plt.bar(ind, f_teach, width=0.45, label='Female')                 # bottom을 안주면 그냥 두 그래프가 똑같은 위치에 겹쳐서 출력된다.\n",
        "\n",
        "plt.legend()\n",
        "\n",
        "# 당연히 x축 티커도 한번 만들어 보자.\n",
        "plt.xticks(ind, t_type);"
      ],
      "metadata": {
        "colab": {
          "base_uri": "https://localhost:8080/",
          "height": 265
        },
        "id": "jtyu4rx7IJ3W",
        "outputId": "0558be90-b508-4fc0-d7f1-3d6f40a493be"
      },
      "execution_count": 138,
      "outputs": [
        {
          "output_type": "display_data",
          "data": {
            "image/png": "[encoded data removed]",
            "text/plain": [
              "<Figure size 432x288 with 1 Axes>"
            ]
          },
          "metadata": {
            "needs_background": "light"
          }
        }
      ]
    },
    {
      "cell_type": "code",
      "source": [
        ""
      ],
      "metadata": {
        "id": "YupipQhA-_nO"
      },
      "execution_count": null,
      "outputs": []
    }
  ]
}