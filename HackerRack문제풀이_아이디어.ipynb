{
  "nbformat": 4,
  "nbformat_minor": 0,
  "metadata": {
    "colab": {
      "name": "HackerRack문제풀이 아이디어.ipynb",
      "provenance": [],
      "collapsed_sections": [],
      "toc_visible": true,
      "authorship_tag": "ABX9TyNLAgvm8p9qs5CoTI4zqMB4",
      "include_colab_link": true
    },
    "kernelspec": {
      "name": "python3",
      "display_name": "Python 3"
    },
    "language_info": {
      "name": "python"
    }
  },
  "cells": [
    {
      "cell_type": "markdown",
      "metadata": {
        "id": "view-in-github",
        "colab_type": "text"
      },
      "source": [
        "<a href=\"https://colab.research.google.com/github/Je-Hyeon/Je-Hyeon/blob/main/HackerRack%EB%AC%B8%EC%A0%9C%ED%92%80%EC%9D%B4_%EC%95%84%EC%9D%B4%EB%94%94%EC%96%B4.ipynb\" target=\"_parent\"><img src=\"https://colab.research.google.com/assets/colab-badge.svg\" alt=\"Open In Colab\"/></a>"
      ]
    },
    {
      "cell_type": "markdown",
      "source": [
        "# 1/14/2022"
      ],
      "metadata": {
        "id": "X5MYBLkDtfdf"
      }
    },
    {
      "cell_type": "markdown",
      "source": [
        "## print에서 end 사용"
      ],
      "metadata": {
        "id": "FBoYxZ4s8gtw"
      }
    },
    {
      "cell_type": "code",
      "execution_count": null,
      "metadata": {
        "colab": {
          "base_uri": "https://localhost:8080/"
        },
        "id": "zYD07_FptYR1",
        "outputId": "b308b5b0-f0d4-400a-af2a-e1282e8cf6ea"
      },
      "outputs": [
        {
          "output_type": "stream",
          "name": "stdout",
          "text": [
            "5\n",
            "12345"
          ]
        }
      ],
      "source": [
        "# 숫자를 입력하면, 그 숫자보다 작은 숫자들을 나란히 출력하는 문제\n",
        "# ex) 5 -> 12345\n",
        "\n",
        "n = int(input())\n",
        "for i in range(1,n+1):\n",
        "  print(i, end='')\n",
        "\n",
        "# 처음 풀 때는 시간이 굉장히 오래걸렸는데 end를 사용하니 정말 간단하게 풀린다.\n",
        "# end는 print할 마지막 벨류 이후에 어떤 값을 출력할지 정한다고 한다. 디폴트는 뉴라인"
      ]
    },
    {
      "cell_type": "markdown",
      "source": [
        "# 1/15/2022\n"
      ],
      "metadata": {
        "id": "FQR1gd-zm9Ik"
      }
    },
    {
      "cell_type": "markdown",
      "source": [
        "## 리스트 내포 응용"
      ],
      "metadata": {
        "id": "pPRbWVIn8jud"
      }
    },
    {
      "cell_type": "code",
      "source": [
        "# 리스트 내포 응용\n",
        "\n",
        "x = int(input())\n",
        "y = int(input())\n",
        "z = int(input())\n",
        "n = int(input())\n",
        "\n",
        "array = [[a,b,c] for a in range(x+1) for b in range(y+1) for c in range(z+1) if (a+b+c) != n ]\n",
        "print(array)"
      ],
      "metadata": {
        "id": "z2xL0_tbt06H",
        "colab": {
          "base_uri": "https://localhost:8080/"
        },
        "outputId": "96c7a7cf-8caa-422d-f8d2-eb15a0072479"
      },
      "execution_count": null,
      "outputs": [
        {
          "output_type": "stream",
          "name": "stdout",
          "text": [
            "2\n",
            "2\n",
            "2\n",
            "2\n",
            "[[0, 0, 0], [0, 0, 1], [0, 1, 0], [0, 1, 2], [0, 2, 1], [0, 2, 2], [1, 0, 0], [1, 0, 2], [1, 1, 1], [1, 1, 2], [1, 2, 0], [1, 2, 1], [1, 2, 2], [2, 0, 1], [2, 0, 2], [2, 1, 0], [2, 1, 1], [2, 1, 2], [2, 2, 0], [2, 2, 1], [2, 2, 2]]\n"
          ]
        }
      ]
    },
    {
      "cell_type": "markdown",
      "source": [
        "## 가장 큰 값 고정시켜 버리기"
      ],
      "metadata": {
        "id": "_b5fUeOL8nVH"
      }
    },
    {
      "cell_type": "code",
      "source": [
        "# 준우승 출력하기 -> 하 오래도 걸렸다...\n",
        "# ex) 2 6 6 4 5 입력했을 때 5를 출력해야 함...\n",
        "\n",
        "arr = list(map(int, input().split()))\n",
        "\n",
        "\n",
        "# 입력받은 리스트에서 가장 큰 값을 고정으로 박아두고\n",
        "z = max(arr)\n",
        "# 최고값과 똑같은게 있으면 몽땅 지워버리면 된다.\n",
        "while max(arr) == z:\n",
        "    arr.remove(z)\n",
        "\n",
        "print('준우승:' , max(arr))"
      ],
      "metadata": {
        "colab": {
          "base_uri": "https://localhost:8080/"
        },
        "id": "EfURYz0nnERo",
        "outputId": "4f1a8569-a8bb-409b-b6bd-c2aaae745810"
      },
      "execution_count": null,
      "outputs": [
        {
          "output_type": "stream",
          "name": "stdout",
          "text": [
            "2 5 5 6 4 45 6\n",
            "준우승: 6\n"
          ]
        }
      ]
    },
    {
      "cell_type": "markdown",
      "source": [
        "## set사용, 딕셔너리 반복"
      ],
      "metadata": {
        "id": "5Z3oMAos8sNJ"
      }
    },
    {
      "cell_type": "code",
      "source": [
        "# 학생이름이랑 점수 입력받아서 두번째로 낮은 점수를 기록한 학생을 출력하는 것\n",
        "# 요구사항: 동점자가 2명 이상이면 둘의 이름을 정렬해서 전부 출력함\n",
        "\n",
        "\n",
        "stu_dict = dict()\n",
        "\n",
        "for _ in range(int(input())):  # 입력을 n번 받아야 하기 때문에 이런 코드를 써야함. 처음 input하는 숫자가 반복 횟수임\n",
        "    name = input()\n",
        "    score = float(input())\n",
        "    stu_dict[name] = score     # 딕셔너리에 이름, 성적 추가\n",
        "\n",
        "z = stu_dict.values()\n",
        "\n",
        "find_second = sorted(list(set(z)))[1]    # 집합 (set)을 사용하면, 겹치는 건 저장하지 않음. 유용하게 사용할 수 있을 듯, 여기서 두번째로 작은 숫자를 찾는다.\n",
        "\n",
        "a = list()\n",
        "for key, value in stu_dict.items():    # 내 생각엔 이 부분이 핵심. 1. 딕셔너리를 반복돌릴 땐 items함수를 사용해야함.\n",
        "    if value == find_second:           # 그리고 value에 뭔가 조건을 걸어서 해당하는 key값을 추출해 내는 방법은 이런 것 밖에 없는 듯 -> 만약 value가 ~ 하면 key를 ~ 한다.\n",
        "        a.append(key)\n",
        "\n",
        "for i in sorted(a):          \n",
        "    print(i)"
      ],
      "metadata": {
        "colab": {
          "base_uri": "https://localhost:8080/"
        },
        "id": "jZOxtnx0vVBw",
        "outputId": "0347bc64-e259-4670-f4ef-5f983c7e9677"
      },
      "execution_count": null,
      "outputs": [
        {
          "name": "stdout",
          "output_type": "stream",
          "text": [
            "3\n",
            "a\n",
            "3\n",
            "s\n",
            "1\n",
            "d\n",
            "2\n"
          ]
        }
      ]
    },
    {
      "cell_type": "markdown",
      "source": [
        "## 평균출력 (소숫점 2째자리까지 표시)"
      ],
      "metadata": {
        "id": "rKWUnEK7D_0p"
      }
    },
    {
      "cell_type": "code",
      "source": [
        "# 학생 이름, 성적 3가지를 입력 받아서 원하는 사람의 평균을 출력하는 시스템이다\n",
        "## 소숫줌 둘째 자리까지 표시하는 걸 몰라서 시간이 많이 걸렸다. 나중에 쓸모 있으려나 모르겠다.\n",
        "\n",
        "n = int(input())\n",
        "student_marks = {}\n",
        "\n",
        "for _ in range(n):\n",
        "    name, *line = input().split()   # -> 요 아이디어가 참신하다. 그냥 한 줄로 입력 받아서, split해준 다음, 한번에 매칭 시켜 버린다.\n",
        "    scores = list(map(float, line))  # -> 여러개의 line라는 숫자들을 한번에 float으로 변환시켜 버리기 map 사용법도 알아 두면 좋을 것 같다.\n",
        "    student_marks[name] = scores\n",
        "\n",
        "query_name = input()\n",
        "s = sum(student_marks[query_name]) / 3\n",
        "\n",
        "print(\"%.2f\"%(s))    # -> 문제의 그 부분..."
      ],
      "metadata": {
        "colab": {
          "base_uri": "https://localhost:8080/",
          "height": 165
        },
        "id": "Fu1ifSs12X4k",
        "outputId": "2d8ef791-352f-4384-da16-da12bda8c419"
      },
      "execution_count": null,
      "outputs": [
        {
          "output_type": "error",
          "ename": "TypeError",
          "evalue": "ignored",
          "traceback": [
            "\u001b[0;31m---------------------------------------------------------------------------\u001b[0m",
            "\u001b[0;31mTypeError\u001b[0m                                 Traceback (most recent call last)",
            "\u001b[0;32m<ipython-input-8-9d516243bd65>\u001b[0m in \u001b[0;36m<module>\u001b[0;34m()\u001b[0m\n\u001b[0;32m----> 1\u001b[0;31m \u001b[0mz\u001b[0m \u001b[0;34m=\u001b[0m \u001b[0mmax\u001b[0m\u001b[0;34m(\u001b[0m\u001b[0msort_by_val\u001b[0m\u001b[0;34m.\u001b[0m\u001b[0mvalues\u001b[0m\u001b[0;34m)\u001b[0m\u001b[0;34m\u001b[0m\u001b[0;34m\u001b[0m\u001b[0m\n\u001b[0m",
            "\u001b[0;31mTypeError\u001b[0m: 'builtin_function_or_method' object is not iterable"
          ]
        }
      ]
    },
    {
      "cell_type": "markdown",
      "source": [
        "# 1월 18일 "
      ],
      "metadata": {
        "id": "4W4cupy6Pa8H"
      }
    },
    {
      "cell_type": "code",
      "source": [
        "# append 1 10 -> 이런식으로 직접 입력받아서 명령따라 수행하기\n",
        "\n",
        "lista = list()\n",
        "\n",
        "N = int(input())\n",
        "for _ in range(N):\n",
        "    n, *num = input().split()\n",
        "    \n",
        "    if n == 'insert':\n",
        "        list_of_insert = list(map(int, num))\n",
        "        lista.insert( list_of_insert[0] , list_of_insert[1])\n",
        "\n",
        "    elif n == 'remove':\n",
        "        a = list(map(int, num))\n",
        "        lista.remove(a[0])\n",
        "\n",
        "    elif n == 'append':\n",
        "        b = list(map(int, num))\n",
        "        lista.append(b[0])\n",
        "\n",
        "    elif n == 'sort':\n",
        "        lista = sorted(lista)\n",
        "\n",
        "    elif n == 'pop':\n",
        "        lista.pop()\n",
        "\n",
        "    elif n == 'reverse':\n",
        "        lista.reverse()\n",
        "\n",
        "    elif n == 'print':\n",
        "        print(lista)"
      ],
      "metadata": {
        "id": "cwCd7Igt2jmS",
        "colab": {
          "base_uri": "https://localhost:8080/"
        },
        "outputId": "96f657f9-04c0-4e1a-9333-a57807d4c9e1"
      },
      "execution_count": null,
      "outputs": [
        {
          "output_type": "stream",
          "name": "stdout",
          "text": [
            "0\n",
            "1\n",
            "2\n",
            "3\n",
            "4\n",
            "5\n",
            "6\n",
            "7\n",
            "8\n",
            "9\n"
          ]
        }
      ]
    },
    {
      "cell_type": "code",
      "source": [
        "a = int(input())\n",
        "set_a = set(map(int, input().split()))\n",
        "print(set_a)\n",
        "    \n",
        "b = int(input())\n",
        "set_b = set(map(int, input().split()))\n",
        "print(set_b)"
      ],
      "metadata": {
        "colab": {
          "base_uri": "https://localhost:8080/"
        },
        "id": "9-zBKdRBLLB3",
        "outputId": "4b0f641d-3de7-48e6-fcc7-4bfd99602472"
      },
      "execution_count": null,
      "outputs": [
        {
          "output_type": "stream",
          "name": "stdout",
          "text": [
            "5\n",
            "1 2 3 4 5\n",
            "{1, 2, 3, 4, 5}\n",
            "4\n",
            "4 5 6 7\n",
            "{4, 5, 6, 7}\n"
          ]
        }
      ]
    },
    {
      "cell_type": "code",
      "source": [
        "print(len(set_b - set_a))"
      ],
      "metadata": {
        "colab": {
          "base_uri": "https://localhost:8080/"
        },
        "id": "laXjaNgHL9ZY",
        "outputId": "e84984e2-b293-4b6a-bbb9-c4d7260d6c50"
      },
      "execution_count": null,
      "outputs": [
        {
          "output_type": "stream",
          "name": "stdout",
          "text": [
            "2\n"
          ]
        }
      ]
    },
    {
      "cell_type": "markdown",
      "source": [
        "#22년 1월 19일"
      ],
      "metadata": {
        "id": "By5y7-gtVfkH"
      }
    },
    {
      "cell_type": "code",
      "source": [
        "# 문자열입력받아서 대문자는 소문자로, 소문자는 대문자로 바꿔서 출력하는 문제\n",
        "\n",
        "lista = list()\n",
        "def swap_case(s):\n",
        "    for i in s:\n",
        "\n",
        "        if i.isupper() == True:\n",
        "            lista.append(i.lower())\n",
        "        \n",
        "        elif i.islower() == True:\n",
        "            lista.append(i.upper())\n",
        "   \n",
        "        else:\n",
        "            lista.append(i)\n",
        "\n",
        "    return ''.join(lista)\n",
        "\n",
        "\n",
        "\n",
        "if __name__ == '__main__':\n",
        "    s = input()\n",
        "    result = swap_case(s)\n",
        "    print(result)\n",
        "\n",
        "# 시불 근데 내장 함수 있음 ㅋㅋ\n",
        "\n",
        "# a = input()\n",
        "# print(a.swapcase)"
      ],
      "metadata": {
        "id": "TTS8dFI9ZXOH"
      },
      "execution_count": null,
      "outputs": []
    },
    {
      "cell_type": "code",
      "source": [
        "# 문자열과 sub문자열을 입력받아서. 문자열에서 sub문자열이 몇번 등장하는지 출력하는 코드\n",
        "\n",
        "def count_substring(string, sub_string):\n",
        "    count = 0\n",
        "    for i in range(len(string)):\n",
        "        if string[i:].startswith(sub_string):    # 문자열에서 한칸씩 밀면서 계속 서브문자열로 시작하는 지 살핀다.\n",
        "            count = count + 1 \n",
        "        else:\n",
        "            continue\n",
        "    \n",
        "    \n",
        "    return count\n",
        "\n",
        "if __name__ == '__main__':\n",
        "    string = input().strip()\n",
        "    sub_string = input().strip()\n",
        "    \n",
        "    count = count_substring(string, sub_string)\n",
        "    print(count)"
      ],
      "metadata": {
        "id": "fVhf3bA0YE6F"
      },
      "execution_count": null,
      "outputs": []
    },
    {
      "cell_type": "markdown",
      "source": [
        "# 22년 1월 21일"
      ],
      "metadata": {
        "id": "aJ2bL2r-2yjp"
      }
    },
    {
      "cell_type": "code",
      "source": [
        "# rjust의 사용 어렵다.\n",
        "\n",
        "def print_formatted(STDIN):\n",
        "    w = len(str(bin(STDIN))[2:])\n",
        "\n",
        "    for i in range(1 , STDIN+1):\n",
        "        b = bin(i)[2:].rjust(w, ' ')\n",
        "        o = oct(i)[2:].rjust(w, ' ')\n",
        "        h = hex(i)[2:].upper().rjust(w, ' ')\n",
        "        j = str(i).rjust(w, ' ')\n",
        "        print(j, o, h, b)\n",
        "\n",
        "if __name__ == '__main__':\n",
        "    n = int(input())\n",
        "    print_formatted(n)\n",
        "\n",
        "    # rjust를 공백을 가지고 있는 하나 자체의 '문자열'이라고 생각하면 될 것 같다."
      ],
      "metadata": {
        "colab": {
          "base_uri": "https://localhost:8080/"
        },
        "id": "UP98TJWi29fK",
        "outputId": "419f65d3-ab63-4dae-f60b-250699797ba6"
      },
      "execution_count": 1,
      "outputs": [
        {
          "output_type": "stream",
          "name": "stdout",
          "text": [
            "13\n",
            "   1    1    1    1\n",
            "   2    2    2   10\n",
            "   3    3    3   11\n",
            "   4    4    4  100\n",
            "   5    5    5  101\n",
            "   6    6    6  110\n",
            "   7    7    7  111\n",
            "   8   10    8 1000\n",
            "   9   11    9 1001\n",
            "  10   12    A 1010\n",
            "  11   13    B 1011\n",
            "  12   14    C 1100\n",
            "  13   15    D 1101\n"
          ]
        }
      ]
    },
    {
      "cell_type": "code",
      "source": [
        ""
      ],
      "metadata": {
        "id": "PP-x-8yw3Bgb"
      },
      "execution_count": null,
      "outputs": []
    }
  ]
}